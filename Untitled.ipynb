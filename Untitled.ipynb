{
 "cells": [
  {
   "cell_type": "code",
   "execution_count": 17,
   "id": "3d27de0d",
   "metadata": {},
   "outputs": [],
   "source": [
    "    # NAZMEEN GULFROSH\n",
    "    # PREDICTIONS USING SUPERVISED LEARNING -LEVEL BEGINNER."
   ]
  },
  {
   "cell_type": "code",
   "execution_count": 9,
   "id": "fcd97259",
   "metadata": {},
   "outputs": [],
   "source": [
    "import numpy as np\n",
    "from sklearn.model_selection import train_test_split\n",
    "from sklearn.linear_model import LinearRegression\n",
    "from sklearn import metrics"
   ]
  },
  {
   "cell_type": "code",
   "execution_count": 10,
   "id": "309de8fa",
   "metadata": {},
   "outputs": [],
   "source": [
    "hours_studied = np.array([2.5, 5.1, 3.2, 8.5, 3.5, 1.5, 9.2, 5.5, 8.3, 2.7,7.7,5.9,4.5,3.3,1.1,8.9,2.5,1.9,6.1,7.4,2.7,4.8,3.8,6.9,7.8])\n",
    "percentage_score = np.array([21, 47, 27, 75, 30, 20, 88, 60, 81, 25,85,62,41,42,17,95,30,24,67,69,30,54,35,76,86])"
   ]
  },
  {
   "cell_type": "code",
   "execution_count": 11,
   "id": "4aec0ae5",
   "metadata": {},
   "outputs": [],
   "source": [
    "hours_studied = hours_studied.reshape(-1, 1)"
   ]
  },
  {
   "cell_type": "code",
   "execution_count": 12,
   "id": "4582602c",
   "metadata": {},
   "outputs": [],
   "source": [
    "X_train, X_test, y_train, y_test = train_test_split(hours_studied, percentage_score, test_size=0.2, random_state=0)"
   ]
  },
  {
   "cell_type": "code",
   "execution_count": 13,
   "id": "797bdb17",
   "metadata": {},
   "outputs": [],
   "source": [
    "model = LinearRegression()"
   ]
  },
  {
   "cell_type": "code",
   "execution_count": 14,
   "id": "1f8831f9",
   "metadata": {},
   "outputs": [
    {
     "data": {
      "text/plain": [
       "LinearRegression()"
      ]
     },
     "execution_count": 14,
     "metadata": {},
     "output_type": "execute_result"
    }
   ],
   "source": [
    "model.fit(X_train, y_train)"
   ]
  },
  {
   "cell_type": "code",
   "execution_count": 15,
   "id": "953bcab7",
   "metadata": {},
   "outputs": [],
   "source": [
    "hours_to_predict = np.array([[9.25]])\n",
    "predicted_percentage = model.predict(hours_to_predict.reshape(-1, 1))"
   ]
  },
  {
   "cell_type": "code",
   "execution_count": 16,
   "id": "f6766a7f",
   "metadata": {},
   "outputs": [
    {
     "name": "stdout",
     "output_type": "stream",
     "text": [
      "Predicted Percentage for 9.25 hours of study: 93.69%\n"
     ]
    }
   ],
   "source": [
    "print(f\"Predicted Percentage for 9.25 hours of study: {predicted_percentage[0]:.2f}%\")"
   ]
  },
  {
   "cell_type": "code",
   "execution_count": null,
   "id": "e94a71a4",
   "metadata": {},
   "outputs": [],
   "source": []
  }
 ],
 "metadata": {
  "kernelspec": {
   "display_name": "Python 3 (ipykernel)",
   "language": "python",
   "name": "python3"
  },
  "language_info": {
   "codemirror_mode": {
    "name": "ipython",
    "version": 3
   },
   "file_extension": ".py",
   "mimetype": "text/x-python",
   "name": "python",
   "nbconvert_exporter": "python",
   "pygments_lexer": "ipython3",
   "version": "3.9.13"
  }
 },
 "nbformat": 4,
 "nbformat_minor": 5
}
